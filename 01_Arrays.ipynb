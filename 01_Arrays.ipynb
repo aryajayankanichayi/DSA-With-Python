{
  "nbformat": 4,
  "nbformat_minor": 0,
  "metadata": {
    "colab": {
      "provenance": [],
      "authorship_tag": "ABX9TyNJ6cJDF3dYwFpXrsToRqQe",
      "include_colab_link": true
    },
    "kernelspec": {
      "name": "python3",
      "display_name": "Python 3"
    },
    "language_info": {
      "name": "python"
    }
  },
  "cells": [
    {
      "cell_type": "markdown",
      "metadata": {
        "id": "view-in-github",
        "colab_type": "text"
      },
      "source": [
        "<a href=\"https://colab.research.google.com/github/aryajayankanichayi/DSA-With-Python/blob/main/01_Arrays.ipynb\" target=\"_parent\"><img src=\"https://colab.research.google.com/assets/colab-badge.svg\" alt=\"Open In Colab\"/></a>"
      ]
    },
    {
      "cell_type": "markdown",
      "source": [
        "Find the maximum element in an array without using any built-in functions."
      ],
      "metadata": {
        "id": "X9QdyDNbUDYS"
      }
    },
    {
      "cell_type": "code",
      "execution_count": 16,
      "metadata": {
        "colab": {
          "base_uri": "https://localhost:8080/"
        },
        "id": "q41uWKA2IBzb",
        "outputId": "0e3d4dfc-fc9f-4097-8f7b-9b070f8b4786"
      },
      "outputs": [
        {
          "output_type": "stream",
          "name": "stdout",
          "text": [
            "enter the array size:5\n",
            "enter the elements:20\n",
            "enter the elements:47\n",
            "enter the elements:12\n",
            "enter the elements:100\n",
            "enter the elements:34\n",
            "array = [ 20  47  12 100  34]\n",
            "maximum value= 100\n"
          ]
        }
      ],
      "source": [
        "from numpy import *\n",
        "size=int(input(\"enter the array size:\"))\n",
        "arr=array([int(input(\"enter the elements:\")) for i in range(size)])\n",
        "print(\"array =\",arr)\n",
        "maxVal=arr[0]\n",
        "for i in range(1,len(arr)):\n",
        "  if arr[i] > maxVal:\n",
        "    maxVal = arr[i]\n",
        "print(\"maximum value=\",maxVal)"
      ]
    },
    {
      "cell_type": "markdown",
      "source": [
        "Find the sum of elements in an array without using any built in functtions."
      ],
      "metadata": {
        "id": "DFUraqD5X7K0"
      }
    },
    {
      "cell_type": "code",
      "source": [
        "from numpy import *\n",
        "size=int(input(\"enter the array size:\"))\n",
        "arr=array([int(input(\"enter the elements:\")) for i in range(size)])\n",
        "print(\"array =\",arr)\n",
        "sum=arr[0]\n",
        "for i in range(1,len(arr)):\n",
        "  sum += arr[i]\n",
        "print(\"Sum of array=\",sum)\n",
        "\n",
        ""
      ],
      "metadata": {
        "colab": {
          "base_uri": "https://localhost:8080/"
        },
        "id": "fjtsTNw_XI77",
        "outputId": "4d07c8e0-83a2-4c99-8102-c5f6cb07d1e0"
      },
      "execution_count": 15,
      "outputs": [
        {
          "output_type": "stream",
          "name": "stdout",
          "text": [
            "enter the array size:4\n",
            "enter the elements:10\n",
            "enter the elements:20\n",
            "enter the elements:30\n",
            "enter the elements:40\n",
            "array = [10 20 30 40]\n",
            "Sum of array= 100\n"
          ]
        }
      ]
    },
    {
      "cell_type": "markdown",
      "source": [
        "Reverse an array without using any built-in functons."
      ],
      "metadata": {
        "id": "0RdmMVkVguxY"
      }
    },
    {
      "cell_type": "code",
      "source": [
        "\n",
        "from numpy import *\n",
        "size=int(input(\"enter the array size:\"))\n",
        "arr=array([int(input(\"enter the elements:\")) for i in range(size)])\n",
        "print(\"array =\",arr)\n",
        "start=0\n",
        "end=size-1\n",
        "while start < end:\n",
        "  temp = arr[start]\n",
        "  arr[start]=arr[end]\n",
        "  arr[end]= temp\n",
        "  start += 1\n",
        "  end -=1\n",
        "print(\"reversed array =\",arr)"
      ],
      "metadata": {
        "colab": {
          "base_uri": "https://localhost:8080/"
        },
        "id": "V9M97ZDZfOLf",
        "outputId": "c6fa1382-7531-4dad-97ac-19559e3a3995"
      },
      "execution_count": 14,
      "outputs": [
        {
          "output_type": "stream",
          "name": "stdout",
          "text": [
            "enter the array size:4\n",
            "enter the elements:6\n",
            "enter the elements:3\n",
            "enter the elements:8\n",
            "enter the elements:2\n",
            "array = [6 3 8 2]\n",
            "reversed array = [2 8 3 6]\n"
          ]
        }
      ]
    }
  ]
}